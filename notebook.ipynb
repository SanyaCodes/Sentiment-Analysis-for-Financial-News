{
  "cells": [
    {
      "cell_type": "markdown",
      "metadata": {
        "id": "view-in-github",
        "colab_type": "text"
      },
      "source": [
        "<a href=\"https://colab.research.google.com/github/Ssanyachetwani/Sentiment-Analysis-for-Financial-News/blob/main/notebook.ipynb\" target=\"_parent\"><img src=\"https://colab.research.google.com/assets/colab-badge.svg\" alt=\"Open In Colab\"/></a>"
      ]
    },
    {
      "cell_type": "code",
      "source": [
        "from google.colab import drive\n",
        "drive.mount('/content/drive')"
      ],
      "metadata": {
        "colab": {
          "base_uri": "https://localhost:8080/"
        },
        "id": "eHMWH-x7yPjI",
        "outputId": "be3263ea-e890-4aa4-eaae-c9ec9e5040c5"
      },
      "execution_count": 2,
      "outputs": [
        {
          "output_type": "stream",
          "name": "stdout",
          "text": [
            "Mounted at /content/drive\n"
          ]
        }
      ]
    },
    {
      "metadata": {
        "dc": {
          "key": "3"
        },
        "deletable": false,
        "editable": false,
        "run_control": {
          "frozen": true
        },
        "tags": [
          "context"
        ],
        "id": "SfkhpEdZx_1n"
      },
      "cell_type": "markdown",
      "source": [
        "## 1. Processing HTML files and Extracting News Headlines\n",
        "\n",
        "<li>Headlines, which have similar length, are easier to parse and group than full articles, which vary in length.</li>\n",
        "<li>getting the table that contains the headlines from each stock's HTML file</li>"
      ]
    },
    {
      "metadata": {
        "dc": {
          "key": "3"
        },
        "tags": [
          "sample_code"
        ],
        "trusted": true,
        "collapsed": true,
        "colab": {
          "base_uri": "https://localhost:8080/"
        },
        "id": "GyYStBRux_1s",
        "outputId": "57f6d5af-7ae6-44fe-a2d1-879116b3fd7e"
      },
      "cell_type": "code",
      "source": [
        "from bs4 import BeautifulSoup\n",
        "import os\n",
        "\n",
        "html_tables = {}\n",
        "for table_name in os.listdir('/content/datasets'):\n",
        "    table_path = f'/content/datasets/{table_name}'\n",
        "    table_file = open(table_path, 'r')\n",
        "    html = BeautifulSoup(table_file)\n",
        "    html_table = html.find(id='news-table')\n",
        "    html_tables[table_name] = html_table\n",
        "\n",
        "tsla = html_tables['tsla_22sep.html']\n",
        "tsla_tr = tsla.findAll('tr')\n",
        "\n",
        "# For each row...\n",
        "for i, table_row in enumerate(tsla_tr):\n",
        "    \n",
        "    link_text = table_row.a.get_text() \n",
        "    data_text = table_row.td.get_text()\n",
        "   \n",
        "    print(f'File number {i+1}:')\n",
        "     \n",
        "    print(link_text)\n",
        "    print(data_text)\n",
        "    if i == 3:\n",
        "        break\n",
        "\n",
        "parsed_news = []\n",
        "\n",
        "for file_name, news_table in html_tables.items():\n",
        "   \n",
        "    for x in news_table.findAll('tr'):\n",
        "        text = x.get_text()\n",
        "        date_scrape = x.td.text.split()\n",
        "        if len(date_scrape) == 1:\n",
        "            time = date_scrape[0]\n",
        "        else:\n",
        "            date = date_scrape[0]\n",
        "            time = date_scrape[1]\n",
        "\n",
        "        ticker = file_name.split(\"_\")[0]\n",
        "        parsed_news.append([ticker, date, time, x.a.text])"
      ],
      "execution_count": 3,
      "outputs": [
        {
          "output_type": "stream",
          "name": "stdout",
          "text": [
            "File number 1:\n",
            "Billionaire investor questions Elon Musk getting 'a pass' after bombshell tweets\n",
            "Sep-21-18 09:56PM  \n",
            "File number 2:\n",
            "Broadcoms Stock Looks Like a Winner\n",
            "09:30PM  \n",
            "File number 3:\n",
            "SHAREHOLDER ALERT:  Pomerantz Law Firm Reminds Shareholders with Losses on their Investment in Tesla, Inc. of Class Action Lawsuit and Upcoming Deadline  TSLA\n",
            "05:30PM  \n",
            "File number 4:\n",
            "Tesla's People Problem and the Inscrutable Musk: 2 Things That Make You Go Hmmm\n",
            "05:30PM  \n"
          ]
        }
      ]
    },
    {
      "metadata": {
        "dc": {
          "key": "24"
        },
        "deletable": false,
        "editable": false,
        "run_control": {
          "frozen": true
        },
        "tags": [
          "context"
        ],
        "id": "5xlC2Xrrx_1x"
      },
      "cell_type": "markdown",
      "source": [
        "## 2. Using NLTK\n",
        "<li>using NLTK to add some new words and sentiment values to the lexicon</li>\n",
        "<li>programmatically predicting sentiment out of news headlines</li>"
      ]
    },
    {
      "metadata": {
        "dc": {
          "key": "24"
        },
        "tags": [
          "sample_code"
        ],
        "trusted": true,
        "collapsed": true,
        "colab": {
          "base_uri": "https://localhost:8080/"
        },
        "id": "ayhS1Ce5x_1y",
        "outputId": "32e6dbbb-a387-4375-fa0f-6b3d831e5054"
      },
      "cell_type": "code",
      "source": [
        "import nltk\n",
        "nltk.download('vader_lexicon')\n",
        "\n",
        "from nltk.sentiment.vader import SentimentIntensityAnalyzer\n",
        "new_words = {\n",
        "    'crushes': 10,\n",
        "    'beats': 5,\n",
        "    'misses': -5,\n",
        "    'trouble': -10,\n",
        "    'falls': -100,\n",
        "}\n",
        "vader = SentimentIntensityAnalyzer()\n",
        "\n",
        "vader.lexicon.update(new_words)\n",
        "\n",
        "import pandas as pd\n",
        "columns = ['ticker', 'date', 'time', 'headline']\n",
        "scored_news = pd.DataFrame(parsed_news, columns=columns)\n",
        "\n",
        "scores = [vader.polarity_scores(headline) for headline in scored_news.headline]\n",
        "scores_df = pd.DataFrame(scores)\n",
        "scored_news.columns = columns\n",
        "\n",
        "scored_news = scored_news.join(scores_df)\n",
        "\n",
        "scored_news['date'] = pd.to_datetime(scored_news.date).dt.date"
      ],
      "execution_count": 4,
      "outputs": [
        {
          "output_type": "stream",
          "name": "stdout",
          "text": [
            "[nltk_data] Downloading package vader_lexicon to /root/nltk_data...\n",
            "[nltk_data]   Package vader_lexicon is already up-to-date!\n"
          ]
        }
      ]
    },
    {
      "metadata": {
        "dc": {
          "key": "38"
        },
        "deletable": false,
        "editable": false,
        "run_control": {
          "frozen": true
        },
        "tags": [
          "context"
        ],
        "id": "tX2CchiRx_10"
      },
      "cell_type": "markdown",
      "source": [
        "## 3. Plotting all the sentiment in subplots\n",
        "<p>Plotting the time series for the stocks we have.</p>"
      ]
    },
    {
      "metadata": {
        "dc": {
          "key": "38"
        },
        "tags": [
          "sample_code"
        ],
        "trusted": true,
        "colab": {
          "base_uri": "https://localhost:8080/",
          "height": 436
        },
        "id": "4hBycuU2x_10",
        "outputId": "77690fed-51e3-4182-f15a-3da0e1fa874d"
      },
      "cell_type": "code",
      "source": [
        "import matplotlib.pyplot as plt\n",
        "plt.style.use(\"fivethirtyeight\")\n",
        "%matplotlib inline\n",
        "\n",
        "\n",
        "mean_c = scored_news.groupby(['date', 'ticker']).mean()\n",
        "mean_c = mean_c.unstack('ticker')\n",
        "mean_c = mean_c.xs(\"compound\", axis=\"columns\")\n",
        "\n",
        "mean_c.plot.bar(figsize = (10, 6));"
      ],
      "execution_count": 5,
      "outputs": [
        {
          "output_type": "display_data",
          "data": {
            "image/png": "[encoded data removed]",
            "text/plain": [
              "<Figure size 720x432 with 1 Axes>"
            ]
          },
          "metadata": {
            "needs_background": "light"
          }
        }
      ]
    },
    {
      "metadata": {
        "dc": {
          "key": "45"
        },
        "deletable": false,
        "editable": false,
        "run_control": {
          "frozen": true
        },
        "tags": [
          "context"
        ],
        "id": "G4CGd-Gzx_10"
      },
      "cell_type": "markdown",
      "source": [
        "## 4. Weekends and duplicates\n",
        "\n",
        "<p>Case where two headlines are verbatim the same as another but from another news outlet. when one piece of news is more important, it tends to get more headlines from multiple sources. getting rid of duplicates.</p>"
      ]
    },
    {
      "metadata": {
        "dc": {
          "key": "45"
        },
        "tags": [
          "sample_code"
        ],
        "trusted": true,
        "colab": {
          "base_uri": "https://localhost:8080/",
          "height": 35
        },
        "id": "utjooF4Gx_11",
        "outputId": "33a23b5b-4fb2-4748-d993-fee50d9dfb91"
      },
      "cell_type": "code",
      "source": [
        "num_news_before = scored_news.headline.count()\n",
        "scored_news_clean = scored_news.drop_duplicates(subset=['headline', 'ticker'])\n",
        "num_news_after = scored_news_clean.headline.count()\n",
        "\n",
        "f\"Before we had {num_news_before} headlines, now we have {num_news_after}\""
      ],
      "execution_count": 6,
      "outputs": [
        {
          "output_type": "execute_result",
          "data": {
            "application/vnd.google.colaboratory.intrinsic+json": {
              "type": "string"
            },
            "text/plain": [
              "'Before we had 500 headlines, now we have 476'"
            ]
          },
          "metadata": {},
          "execution_count": 6
        }
      ]
    },
    {
      "metadata": {
        "dc": {
          "key": "52"
        },
        "deletable": false,
        "editable": false,
        "run_control": {
          "frozen": true
        },
        "tags": [
          "context"
        ],
        "id": "ba06iIHux_11"
      },
      "cell_type": "markdown",
      "source": [
        "## 8. Sentiment on one single trading day and stock\n",
        "<p>focussing on one trading day and one single stock by making an informative plot where there is the smallest grain possible: headline and subscores.</p>"
      ]
    },
    {
      "metadata": {
        "dc": {
          "key": "52"
        },
        "tags": [
          "sample_code"
        ],
        "trusted": true,
        "collapsed": true,
        "id": "Rbh2nGtMx_11"
      },
      "cell_type": "code",
      "source": [
        "# Set the index to ticker and date\n",
        "single_day = scored_news_clean.set_index(['ticker', 'date'])\n",
        "\n",
        "single_day = single_day.xs('fb')\n",
        "single_day = single_day.loc['2019-01-03']\n",
        "single_day['time'] = pd.to_datetime(single_day['time']).dt.time\n",
        "single_day = single_day.set_index('time')\n",
        "# Sort it\n",
        "single_day = single_day.sort_index()"
      ],
      "execution_count": 7,
      "outputs": []
    },
    {
      "metadata": {
        "dc": {
          "key": "59"
        },
        "deletable": false,
        "editable": false,
        "run_control": {
          "frozen": true
        },
        "tags": [
          "context"
        ],
        "id": "6r0D_3zUx_12"
      },
      "cell_type": "markdown",
      "source": [
        "## 9. Visualize the single day\n",
        "<p>making a plot to visualize the positive, negative and neutral scores for a single day of trading and a single stock.</p>"
      ]
    },
    {
      "metadata": {
        "dc": {
          "key": "59"
        },
        "tags": [
          "sample_code"
        ],
        "trusted": true,
        "colab": {
          "base_uri": "https://localhost:8080/",
          "height": 439
        },
        "id": "vwTKURa9x_12",
        "outputId": "874556f6-f3ad-4193-a5a6-4860160a3271"
      },
      "cell_type": "code",
      "source": [
        "TITLE = \"Negative, neutral, and positive sentiment for FB on 2019-01-03\"\n",
        "COLORS = [\"red\",\"orange\", \"green\"]\n",
        "\n",
        "plot_day = single_day.drop(['compound', 'headline'], 1)\n",
        "plot_day.columns = ['negative', 'neutral', 'positive']\n",
        "\n",
        "# Plot a stacked bar chart\n",
        "plot_day.plot.bar(stacked = True, figsize=(10, 6), title = TITLE, color = COLORS).legend(bbox_to_anchor=(1.2, 0.5))\n",
        "plt.ylabel(\"scores\");"
      ],
      "execution_count": 8,
      "outputs": [
        {
          "output_type": "display_data",
          "data": {
            "image/png": "[encoded data removed]",
            "text/plain": [
              "<Figure size 720x432 with 1 Axes>"
            ]
          },
          "metadata": {
            "needs_background": "light"
          }
        }
      ]
    }
  ],
  "metadata": {
    "kernelspec": {
      "name": "python3",
      "display_name": "Python 3",
      "language": "python"
    },
    "language_info": {
      "name": "python",
      "version": "3.6.7",
      "mimetype": "text/x-python",
      "codemirror_mode": {
        "name": "ipython",
        "version": 3
      },
      "pygments_lexer": "ipython3",
      "nbconvert_exporter": "python",
      "file_extension": ".py"
    },
    "colab": {
      "name": "notebook.ipynb",
      "provenance": [],
      "include_colab_link": true
    }
  },
  "nbformat": 4,
  "nbformat_minor": 0
}