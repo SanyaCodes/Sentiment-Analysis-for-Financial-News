{
  "nbformat": 4,
  "nbformat_minor": 0,
  "metadata": {
    "kernelspec": {
      "name": "python3",
      "display_name": "Python 3",
      "language": "python"
    },
    "language_info": {
      "name": "python",
      "version": "3.6.7",
      "mimetype": "text/x-python",
      "codemirror_mode": {
        "name": "ipython",
        "version": 3
      },
      "pygments_lexer": "ipython3",
      "nbconvert_exporter": "python",
      "file_extension": ".py"
    },
    "colab": {
      "name": "notebook.ipynb",
      "provenance": []
    }
  },
  "cells": [
    {
      "cell_type": "code",
      "metadata": {
        "dc": {
          "key": "3"
        },
        "tags": [
          "sample_code"
        ],
        "trusted": false,
        "collapsed": true,
        "id": "ZCsrsWWcG4-w"
      },
      "source": [
        "from bs4 import BeautifulSoup\n",
        "import os\n",
        "\n",
        "html_tables = {}\n",
        "for table_name in os.listdir('datasets'):\n",
        "    table_path = f'datasets/{table_name}'\n",
        "    table_file = open(table_path, 'r')\n",
        "    html = BeautifulSoup(table_file)\n",
        "    html_table = html.find(id='news-table')\n",
        "    html_tables[table_name] = html_table"
      ],
      "execution_count": null,
      "outputs": []
    },
    {
      "cell_type": "code",
      "metadata": {
        "dc": {
          "key": "10"
        },
        "tags": [
          "sample_code"
        ],
        "trusted": false,
        "collapsed": true,
        "id": "bpX0ziU7G4-z"
      },
      "source": [
        "tsla = html_tables['tsla_22sep.html']\n",
        "tsla_tr = tsla.findAll('tr')\n",
        "\n",
        "# For each row...\n",
        "for i, table_row in enumerate(tsla_tr):\n",
        "    \n",
        "    link_text = table_row.a.get_text() \n",
        "   \n",
        "    data_text = table_row.td.get_text()\n",
        "   \n",
        "    print(f'File number {i+1}:')\n",
        "     \n",
        "    print(link_text)\n",
        "    print(data_text)\n",
        "    if i == 3:\n",
        "        break"
      ],
      "execution_count": null,
      "outputs": []
    },
    {
      "cell_type": "markdown",
      "metadata": {
        "dc": {
          "key": "17"
        },
        "deletable": false,
        "editable": false,
        "run_control": {
          "frozen": true
        },
        "tags": [
          "context"
        ],
        "id": "qnzIBNUlG4-0"
      },
      "source": [
        "###Extracting the news headlines\n"
      ]
    },
    {
      "cell_type": "code",
      "metadata": {
        "dc": {
          "key": "17"
        },
        "tags": [
          "sample_code"
        ],
        "trusted": false,
        "collapsed": true,
        "id": "F3vP4U6FG4-0"
      },
      "source": [
        "# Hold the parsed news into a list\n",
        "parsed_news = []\n",
        "\n",
        "for file_name, news_table in html_tables.items():\n",
        "   \n",
        "    for x in news_table.findAll('tr'):\n",
        "        text = x.get_text()\n",
        "        date_scrape = x.td.text.split()\n",
        "        if len(date_scrape) == 1:\n",
        "            time = date_scrape[0]\n",
        "        else:\n",
        "            date = date_scrape[0]\n",
        "            time = date_scrape[1]\n",
        "\n",
        "        ticker = file_name.split(\"_\")[0]\n",
        "        parsed_news.append([ticker, date, time, x.a.text])"
      ],
      "execution_count": null,
      "outputs": []
    },
    {
      "cell_type": "markdown",
      "metadata": {
        "dc": {
          "key": "24"
        },
        "deletable": false,
        "editable": false,
        "run_control": {
          "frozen": true
        },
        "tags": [
          "context"
        ],
        "id": "B0YnhwsbG4-1"
      },
      "source": [
        "###Using NLTK\n",
        "<p>Adding some new words and sentiment values to lexicon.</p>"
      ]
    },
    {
      "cell_type": "code",
      "metadata": {
        "dc": {
          "key": "24"
        },
        "tags": [
          "sample_code"
        ],
        "trusted": false,
        "collapsed": true,
        "id": "u7cJWvrUG4-3"
      },
      "source": [
        "from nltk.sentiment.vader import SentimentIntensityAnalyzer\n",
        "new_words = {\n",
        "    'crushes': 10,\n",
        "    'beats': 5,\n",
        "    'misses': -5,\n",
        "    'trouble': -10,\n",
        "    'falls': -100,\n",
        "}\n",
        "vader = SentimentIntensityAnalyzer()\n",
        "\n",
        "vader.lexicon.update(new_words)"
      ],
      "execution_count": null,
      "outputs": []
    },
    {
      "cell_type": "markdown",
      "metadata": {
        "dc": {
          "key": "31"
        },
        "deletable": false,
        "editable": false,
        "run_control": {
          "frozen": true
        },
        "tags": [
          "context"
        ],
        "id": "mzCd80MXG4-5"
      },
      "source": [
        "###Sentiment Estimates\n",
        "<p>Programmatically predicting sentiment out of news headlines.</p>\n"
      ]
    },
    {
      "cell_type": "code",
      "metadata": {
        "dc": {
          "key": "31"
        },
        "tags": [
          "sample_code"
        ],
        "trusted": false,
        "collapsed": true,
        "id": "LmH--BLQG4-6"
      },
      "source": [
        "import pandas as pd\n",
        "columns = ['ticker', 'date', 'time', 'headline']\n",
        "scored_news = pd.DataFrame(parsed_news, columns=columns)\n",
        "\n",
        "scores = [vader.polarity_scores(headline) for headline in scored_news.headline]\n",
        "scores_df = pd.DataFrame(scores)\n",
        "scored_news.columns = columns\n",
        "\n",
        "scored_news = scored_news.join(scores_df)\n",
        "\n",
        "scored_news['date'] = pd.to_datetime(scored_news.date).dt.date"
      ],
      "execution_count": null,
      "outputs": []
    },
    {
      "cell_type": "markdown",
      "metadata": {
        "dc": {
          "key": "38"
        },
        "deletable": false,
        "editable": false,
        "run_control": {
          "frozen": true
        },
        "tags": [
          "context"
        ],
        "id": "6U1mDDWrG4-7"
      },
      "source": [
        "###Plotting all the sentiment in subplots\n",
        "<p>Plotting the time series for the stocks we have.</p>"
      ]
    },
    {
      "cell_type": "code",
      "metadata": {
        "dc": {
          "key": "38"
        },
        "tags": [
          "sample_code"
        ],
        "trusted": false,
        "collapsed": true,
        "id": "8vSmj6laG4-8"
      },
      "source": [
        "import matplotlib.pyplot as plt\n",
        "plt.style.use(\"fivethirtyeight\")\n",
        "%matplotlib inline\n",
        "\n",
        "\n",
        "mean_c = scored_news.groupby(['date', 'ticker']).mean()\n",
        "mean_c = mean_c.unstack('ticker')\n",
        "mean_c = mean_c.xs(\"compound\", axis=\"columns\")\n",
        "\n",
        "mean_c.plot.bar(figsize = (10, 6));"
      ],
      "execution_count": null,
      "outputs": []
    },
    {
      "cell_type": "markdown",
      "metadata": {
        "dc": {
          "key": "45"
        },
        "deletable": false,
        "editable": false,
        "run_control": {
          "frozen": true
        },
        "tags": [
          "context"
        ],
        "id": "Sb6_scVhG4-9"
      },
      "source": [
        "###Duplicates\n",
        "<p>If two headlines are verbatim the same as another but from another news outlet, getting rid of verbatim copied headlines.</p>"
      ]
    },
    {
      "cell_type": "code",
      "metadata": {
        "dc": {
          "key": "45"
        },
        "tags": [
          "sample_code"
        ],
        "trusted": false,
        "collapsed": true,
        "id": "DqgO1GwtG4--"
      },
      "source": [
        "num_news_before = scored_news.headline.count()\n",
        "scored_news_clean = scored_news.drop_duplicates(subset=['headline', 'ticker'])\n",
        "num_news_after = scored_news_clean.headline.count()\n",
        "\n",
        "f\"Before we had {num_news_before} headlines, now we have {num_news_after}\""
      ],
      "execution_count": null,
      "outputs": []
    },
    {
      "cell_type": "markdown",
      "metadata": {
        "dc": {
          "key": "52"
        },
        "deletable": false,
        "editable": false,
        "run_control": {
          "frozen": true
        },
        "tags": [
          "context"
        ],
        "id": "lqEA3tAnG4-_"
      },
      "source": [
        "## Sentiment on one single trading day and stock\n",
        "<p>focussing on one trading day and one single stock. making an informative plot where we will see the smallest grain possible: headline and subscores.</p>"
      ]
    },
    {
      "cell_type": "code",
      "metadata": {
        "dc": {
          "key": "52"
        },
        "tags": [
          "sample_code"
        ],
        "trusted": false,
        "collapsed": true,
        "id": "Rlkgn0tkG4-_"
      },
      "source": [
        "# Setting the index to ticker and date\n",
        "single_day = scored_news_clean.set_index(['ticker', 'date'])\n",
        "\n",
        "single_day = single_day.xs('fb')\n",
        "single_day = single_day.loc['2019-01-03']\n",
        "single_day['time'] = pd.to_datetime(single_day['time']).dt.time\n",
        "single_day = single_day.set_index('time')\n",
        "# Sort it\n",
        "single_day = single_day.sort_index()"
      ],
      "execution_count": null,
      "outputs": []
    },
    {
      "cell_type": "markdown",
      "metadata": {
        "dc": {
          "key": "59"
        },
        "deletable": false,
        "editable": false,
        "run_control": {
          "frozen": true
        },
        "tags": [
          "context"
        ],
        "id": "gKg6UpdLG4_A"
      },
      "source": [
        "##Visualizing\n",
        "<p>Visualizing the positive, negative and neutral scores for a single day of trading and a single stock.</p>"
      ]
    },
    {
      "cell_type": "code",
      "metadata": {
        "dc": {
          "key": "59"
        },
        "tags": [
          "sample_code"
        ],
        "trusted": false,
        "collapsed": true,
        "id": "Syg2ic5ZG4_A"
      },
      "source": [
        "TITLE = \"Negative, neutral, and positive sentiment for FB on 2019-01-03\"\n",
        "COLORS = [\"red\",\"orange\", \"green\"]\n",
        "\n",
        "plot_day = single_day.drop(['compound', 'headline'], 1)\n",
        "plot_day.columns = ['negative', 'neutral', 'positive']\n",
        "\n",
        "# Plot a stacked bar chart\n",
        "plot_day.plot.bar(stacked = True, figsize=(10, 6), title = TITLE, color = COLORS).legend(bbox_to_anchor=(1.2, 0.5))\n",
        "plt.ylabel(\"scores\");"
      ],
      "execution_count": null,
      "outputs": []
    }
  ]
}
